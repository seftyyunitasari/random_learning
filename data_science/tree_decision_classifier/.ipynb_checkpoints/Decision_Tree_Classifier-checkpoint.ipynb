{
 "cells": [
  {
   "cell_type": "markdown",
   "id": "5557a38d",
   "metadata": {},
   "source": [
    "# Loan Repayment Prediction\n",
    "## Problem Statement\n",
    "To predict if a customer will repay loan amount or not using a decision tree algorithm in python."
   ]
  },
  {
   "cell_type": "code",
   "execution_count": null,
   "id": "f37a19d4",
   "metadata": {},
   "outputs": [],
   "source": [
    "# Import necessary packages\n",
    "import numpy as np\n",
    "import pandas as pd\n",
    "from sklearn.cross_validation import train_test_split\n",
    "from sklearn.tree import DecisionTreeClassifier\n",
    "from sklearn.metrics import accuracy_score\n",
    "from sklearn import tree\n",
    "\n",
    "# Loading the data file\n",
    "balance_data = pd.read_csv('./Decision_Tree_ Dataset', sep = ',', header = 0)"
   ]
  }
 ],
 "metadata": {
  "kernelspec": {
   "display_name": "Python 3 (ipykernel)",
   "language": "python",
   "name": "python3"
  },
  "language_info": {
   "codemirror_mode": {
    "name": "ipython",
    "version": 3
   },
   "file_extension": ".py",
   "mimetype": "text/x-python",
   "name": "python",
   "nbconvert_exporter": "python",
   "pygments_lexer": "ipython3",
   "version": "3.11.4"
  }
 },
 "nbformat": 4,
 "nbformat_minor": 5
}
